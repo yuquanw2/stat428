{
 "cells": [
  {
   "cell_type": "code",
   "execution_count": 1,
   "metadata": {},
   "outputs": [
    {
     "ename": "ERROR",
     "evalue": "Error in eval(expr, envir, enclos): object 'distname' not found\n",
     "output_type": "error",
     "traceback": [
      "Error in eval(expr, envir, enclos): object 'distname' not found\nTraceback:\n"
     ]
    }
   ],
   "source": [
    "if(distname == \"normal\") {\n",
    "            if(!is.null(start))\n",
    "                stop(gettextf(\"supplying pars for the %s distribution is not supported\",\n",
    "                              \"Normal\"), domain = NA)\n",
    "            sd0 <- sqrt((n-1)/n)*sd(x)//\n",
    "            mx <- mean(x)\n",
    "            estimate <- c(mx, sd0)\n",
    "            sds <- c(sd0/sqrt(n), sd0/sqrt(2*n))\n",
    "            names(estimate) <- names(sds) <- c(\"mean\", \"sd\")\n",
    "            vc <- matrix(c(sds[1]^2, 0, 0, sds[2]^2), ncol = 2,\n",
    "                         dimnames = list(names(sds), names(sds)))\n",
    "            return(structure(list(estimate = estimate, sd = sds, vcov = vc, n = n,\n",
    "\t\t\t\t  loglik = sum(dnorm(x, mx, sd0, log=TRUE))),\n",
    "                             class = \"fitdistr\"))\n",
    "        }"
   ]
  },
  {
   "cell_type": "code",
   "execution_count": 4,
   "metadata": {},
   "outputs": [],
   "source": [
    "boot_strap_mean=function(x){\n",
    "    N = 10000\n",
    "    K = 10000\n",
    "    ret = c()\n",
    "    i=1\n",
    "    while(i<N){\n",
    "        idx = sample(K,x,replace =TRUE)\n",
    "        ret[i]=mean(x[idx])\n",
    "        i=i+1\n",
    "    }\n",
    "    return ( mean(ret) )\n",
    "}"
   ]
  },
  {
   "cell_type": "code",
   "execution_count": 6,
   "metadata": {},
   "outputs": [],
   "source": [
    "boot_strap_sd=function(x){\n",
    "    N = 10000\n",
    "    K = 10000\n",
    "    ret = c()\n",
    "    i=1\n",
    "    while(i<N){\n",
    "        idx = sample(K,x,replace =TRUE)\n",
    "        ret[i]=sd(x[idx])\n",
    "        i=i+1\n",
    "    }\n",
    "    return ( mean(ret) )\n",
    "}"
   ]
  },
  {
   "cell_type": "code",
   "execution_count": null,
   "metadata": {
    "collapsed": true
   },
   "outputs": [],
   "source": []
  }
 ],
 "metadata": {
  "kernelspec": {
   "display_name": "R",
   "language": "R",
   "name": "ir"
  },
  "language_info": {
   "codemirror_mode": "r",
   "file_extension": ".r",
   "mimetype": "text/x-r-source",
   "name": "R",
   "pygments_lexer": "r",
   "version": "3.3.3"
  }
 },
 "nbformat": 4,
 "nbformat_minor": 2
}
